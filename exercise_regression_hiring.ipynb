{
 "cells": [
  {
   "cell_type": "code",
   "execution_count": 5,
   "id": "f1aa32cc",
   "metadata": {},
   "outputs": [],
   "source": [
    "#download from github:\n",
    "#https://download-directory.github.io/?url=https%3A%2F%2Fgithub.com%2Fcodebasics%2Fpy%2Ftree%2Fmaster%2FML%2F1_linear_reg%2FExercise\n",
    "import pandas as pd\n",
    "\n",
    "url = \"https://raw.githubusercontent.com/codebasics/py/master/ML/2_linear_reg_multivariate/Exercise/hiring.csv\"\n",
    "\n",
    "df = pd.read_csv('hiring.csv')"
   ]
  },
  {
   "cell_type": "code",
   "execution_count": 6,
   "id": "736f71a9",
   "metadata": {},
   "outputs": [
    {
     "data": {
      "text/plain": [
       "<bound method NDFrame.head of    Unnamed: 0 experience  test_score(out of 10)  interview_score(out of 10)  \\\n",
       "0           0        NaN                    8.0                           9   \n",
       "1           1        NaN                    8.0                           6   \n",
       "2           2       five                    6.0                           7   \n",
       "3           3        two                   10.0                          10   \n",
       "4           4      seven                    9.0                           6   \n",
       "5           5      three                    7.0                          10   \n",
       "6           6        ten                    NaN                           7   \n",
       "7           7     eleven                    7.0                           8   \n",
       "\n",
       "   salary($)  \n",
       "0      50000  \n",
       "1      45000  \n",
       "2      60000  \n",
       "3      65000  \n",
       "4      70000  \n",
       "5      62000  \n",
       "6      72000  \n",
       "7      80000  >"
      ]
     },
     "execution_count": 6,
     "metadata": {},
     "output_type": "execute_result"
    }
   ],
   "source": [
    "df.head"
   ]
  },
  {
   "cell_type": "code",
   "execution_count": null,
   "id": "87ed7111",
   "metadata": {},
   "outputs": [],
   "source": []
  }
 ],
 "metadata": {
  "kernelspec": {
   "display_name": "Python 3",
   "language": "python",
   "name": "python3"
  },
  "language_info": {
   "codemirror_mode": {
    "name": "ipython",
    "version": 3
   },
   "file_extension": ".py",
   "mimetype": "text/x-python",
   "name": "python",
   "nbconvert_exporter": "python",
   "pygments_lexer": "ipython3",
   "version": "3.8.8"
  }
 },
 "nbformat": 4,
 "nbformat_minor": 5
}
